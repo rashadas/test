{
 "cells": [
  {
   "cell_type": "code",
   "execution_count": 2,
   "metadata": {},
   "outputs": [],
   "source": [
    "from selenium import webdriver\n",
    "from bs4 import BeautifulSoup\n",
    "from requests.auth import HTTPDigestAuth\n",
    "import requests\n",
    "import csv\n",
    "import urllib3\n",
    "urllib3.disable_warnings()"
   ]
  },
  {
   "cell_type": "code",
   "execution_count": null,
   "metadata": {},
   "outputs": [],
   "source": [
    "r = requests.get('https://someurl', auth=HTTPDigestAuth('username', 'spassword')).text\n",
    "soup = BeautifulSoup(r, 'lxml')"
   ]
  },
  {
   "cell_type": "code",
   "execution_count": null,
   "metadata": {},
   "outputs": [],
   "source": [
    "myList = [\"e\", \"f\", \"g\", \"i\", \"j\", \"k\", \"l\", \"m\", \"n\", \"o\", \"p\", \"q\", \"r\", \"s\", \"t\", \"u\", \"v\", \"w\", \"y\", \"z\"]\n",
    "for i in myList:\n",
    "    fileName = \"toefl_vocabulary_list_\"+i+\".html\"\n",
    "    csvFile = i+\".csv\"\n",
    "    csv_file = open(csvFile, 'w')\n",
    "    csv_writer = csv.writer(csv_file)\n",
    "    csv_writer.writerow(['word', 'defination'])\n",
    "    with open(fileName) as html_file:\n",
    "        soup = BeautifulSoup(html_file, 'lxml')\n",
    "        #print(html_file)\n",
    "        #print(csvFile)\n",
    "        for match1, match2 in zip(soup.find_all(\"h5\", class_= \"capitalize\"), soup.find_all(\"div\", class_= \"lesson no-select\")):\n",
    "            #for match in soup.find_all(\"div\", class_= \"lesson no-select\"):\n",
    "            #print(match1.contents[0], match2.text)\n",
    "            #word = match1.contents[0]\n",
    "            #defination = match2.text\n",
    "            #print(match.contents[0])\n",
    "            csv_writer.writerow([match1.contents[0], match2.text])\n",
    "        csv_file.close()"
   ]
  },
  {
   "cell_type": "code",
   "execution_count": null,
   "metadata": {},
   "outputs": [],
   "source": [
    "with open('toefl_vocabulary_list_d.html') as html_file:\n",
    "    soup = BeautifulSoup(html_file, 'lxml')"
   ]
  },
  {
   "cell_type": "code",
   "execution_count": null,
   "metadata": {},
   "outputs": [],
   "source": [
    "#match = soup.title.text\n",
    "#match = soup.find('i', class_='material-icons material-middle down right')\n",
    "#inner_text = match.text\n",
    "#strings = inner_text.split(\"\\th\")\n",
    "\n",
    "csv_file = open('d.csv', 'w')\n",
    "csv_writer = csv.writer(csv_file)\n",
    "csv_writer.writerow(['word', 'defination'])\n",
    "\n",
    "for match1, match2 in zip(soup.find_all(\"h5\", class_= \"capitalize\"), soup.find_all(\"div\", class_= \"lesson no-select\")):\n",
    "    #for match in soup.find_all(\"div\", class_= \"lesson no-select\"):\n",
    "    #print(match1.contents[0], match2.text)\n",
    "    #word = match1.contents[0]\n",
    "    #defination = match2.text\n",
    "    #print(match.cowith open('toefl_vocabulary_list_d.html') as html_file:\n",
    "    soup = BeautifulSoup(html_file, 'lxml')ntents[0])\n",
    "    csv_writer.writerow([match1.contents[0], match2.text])\n",
    "csv_file.close()"
   ]
  }
 ],
 "metadata": {
  "kernelspec": {
   "display_name": "Python 3",
   "language": "python",
   "name": "python3"
  },
  "language_info": {
   "codemirror_mode": {
    "name": "ipython",
    "version": 3
   },
   "file_extension": ".py",
   "mimetype": "text/x-python",
   "name": "python",
   "nbconvert_exporter": "python",
   "pygments_lexer": "ipython3",
   "version": "3.6.4"
  }
 },
 "nbformat": 4,
 "nbformat_minor": 2
}
