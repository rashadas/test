{
 "cells": [
  {
   "cell_type": "markdown",
   "metadata": {},
   "source": [
    "# Preparing Data"
   ]
  },
  {
   "cell_type": "code",
   "execution_count": 2,
   "metadata": {
    "collapsed": true
   },
   "outputs": [],
   "source": [
    "import csv #import csv library\n",
    "\n",
    "new_rows_list = []\n",
    "def path1(readFileUrl, text):\n",
    "    file1 = open(readFileUrl, 'rb')\n",
    "    reader = csv.reader(file1)\n",
    "    next(file1, None) # Skip Title\n",
    "    \n",
    "    for row in reader:\n",
    "        row[14] = row[14] + text\n",
    "        new_rows_list.append(row)\n",
    "    #print new_rows_list\n",
    "    file1.close()\n",
    "def path2(writeFileUrl):\n",
    "    file2 = open(writeFileUrl, 'wb')\n",
    "    writer = csv.writer(file2)\n",
    "    writer.writerows(new_rows_list)\n",
    "        \n",
    "path1('/home/rashad/workspace/data/finaldataset/sality_filtered_udp.binetflow', 'SalityMalicious')\n",
    "path2('/home/rashad/workspace/data/finaldataset/SalityMalicious.csv')"
   ]
  },
  {
   "cell_type": "code",
   "execution_count": 7,
   "metadata": {
    "collapsed": true
   },
   "outputs": [],
   "source": [
    "# Merged different files lines randomly\n",
    "# awk 'BEGIN { srand() } { print rand(), $0 }' 2newfile.csv newfile.csv | sort -n | cut -f2- -d\" \" "
   ]
  }
 ],
 "metadata": {
  "anaconda-cloud": {},
  "kernelspec": {
   "display_name": "Python 3",
   "language": "python",
   "name": "python3"
  },
  "language_info": {
   "codemirror_mode": {
    "name": "ipython",
    "version": 3
   },
   "file_extension": ".py",
   "mimetype": "text/x-python",
   "name": "python",
   "nbconvert_exporter": "python",
   "pygments_lexer": "ipython3",
   "version": "3.6.4"
  }
 },
 "nbformat": 4,
 "nbformat_minor": 1
}
